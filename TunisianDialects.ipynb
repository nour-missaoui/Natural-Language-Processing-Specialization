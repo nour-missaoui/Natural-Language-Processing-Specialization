{
  "nbformat": 4,
  "nbformat_minor": 0,
  "metadata": {
    "colab": {
      "name": "TunisianDialects.ipynb",
      "provenance": [],
      "collapsed_sections": [],
      "toc_visible": true,
      "authorship_tag": "ABX9TyNMfDFKRmnayOyehVupOV0q",
      "include_colab_link": true
    },
    "kernelspec": {
      "display_name": "Python 3",
      "name": "python3"
    }
  },
  "cells": [
    {
      "cell_type": "markdown",
      "metadata": {
        "id": "view-in-github",
        "colab_type": "text"
      },
      "source": [
        "<a href=\"https://colab.research.google.com/github/nour-missaoui/Natural-Language-Processing-Specialization/blob/master/TunisianDialects.ipynb\" target=\"_parent\"><img src=\"https://colab.research.google.com/assets/colab-badge.svg\" alt=\"Open In Colab\"/></a>"
      ]
    },
    {
      "cell_type": "markdown",
      "metadata": {
        "id": "7J_MuVX4mOgf"
      },
      "source": [
        "**Libraries**"
      ]
    },
    {
      "cell_type": "code",
      "metadata": {
        "colab": {
          "base_uri": "https://localhost:8080/"
        },
        "id": "yAhVi-oJlGQv",
        "outputId": "bc4b500c-9866-4b03-8b83-089526a8cd19"
      },
      "source": [
        "import nltk                                # Python library for NLP\r\n",
        "import matplotlib.pyplot as plt            # library for visualization\r\n",
        "import random                              # pseudo-random number generator\r\n",
        "import tensorflow as tf\r\n",
        "from tensorflow import keras\r\n",
        "import pandas as pd\r\n",
        "import numpy as np\r\n",
        "import seaborn as sns\r\n",
        "import re   \r\n",
        "import re                                  # library for regular expression operations\r\n",
        "import string                              # for string operations\r\n",
        "from nltk.corpus import stopwords          # module for stop words that come with NLTK\r\n",
        "\r\n",
        "from nltk.stem import WordNetLemmatizer      # module for stemming\r\n",
        "from nltk.tokenize import TweetTokenizer   # module for tokenizing strings \r\n",
        "import nltk\r\n",
        "from nltk.corpus import stopwords\r\n",
        "nltk.download('wordnet')\r\n",
        "nltk.download('stopwords')\r\n",
        "from collections import defaultdict\r\n",
        "sw= stopwords.words('english') +  stopwords.words('french') +  stopwords.words('arabic')\r\n",
        "\r\n"
      ],
      "execution_count": 1,
      "outputs": [
        {
          "output_type": "stream",
          "text": [
            "[nltk_data] Downloading package wordnet to /root/nltk_data...\n",
            "[nltk_data]   Package wordnet is already up-to-date!\n",
            "[nltk_data] Downloading package stopwords to /root/nltk_data...\n",
            "[nltk_data]   Package stopwords is already up-to-date!\n"
          ],
          "name": "stdout"
        }
      ]
    },
    {
      "cell_type": "markdown",
      "metadata": {
        "id": "H5j1QtgCmYKe"
      },
      "source": [
        "# **Import Data**"
      ]
    },
    {
      "cell_type": "code",
      "metadata": {
        "id": "lnUhpI4dl9vo"
      },
      "source": [
        "train = pd.read_csv('/content/sample_data/Train (2).csv',encoding = 'utf-8')"
      ],
      "execution_count": 2,
      "outputs": []
    },
    {
      "cell_type": "markdown",
      "metadata": {
        "id": "uFyDNA_cmdrZ"
      },
      "source": [
        "# **Data Exploring**"
      ]
    },
    {
      "cell_type": "code",
      "metadata": {
        "colab": {
          "base_uri": "https://localhost:8080/",
          "height": 195
        },
        "id": "wPFrKVGumdQ1",
        "outputId": "f2941bcb-936d-4dff-b13c-7d8ef89f354e"
      },
      "source": [
        "train.head(5)"
      ],
      "execution_count": 3,
      "outputs": [
        {
          "output_type": "execute_result",
          "data": {
            "text/html": [
              "<div>\n",
              "<style scoped>\n",
              "    .dataframe tbody tr th:only-of-type {\n",
              "        vertical-align: middle;\n",
              "    }\n",
              "\n",
              "    .dataframe tbody tr th {\n",
              "        vertical-align: top;\n",
              "    }\n",
              "\n",
              "    .dataframe thead th {\n",
              "        text-align: right;\n",
              "    }\n",
              "</style>\n",
              "<table border=\"1\" class=\"dataframe\">\n",
              "  <thead>\n",
              "    <tr style=\"text-align: right;\">\n",
              "      <th></th>\n",
              "      <th>ID</th>\n",
              "      <th>content</th>\n",
              "      <th>score</th>\n",
              "    </tr>\n",
              "  </thead>\n",
              "  <tbody>\n",
              "    <tr>\n",
              "      <th>0</th>\n",
              "      <td>65479</td>\n",
              "      <td>Revoyez vos prix ainsi que la lenteur ke prend...</td>\n",
              "      <td>0</td>\n",
              "    </tr>\n",
              "    <tr>\n",
              "      <th>1</th>\n",
              "      <td>84256</td>\n",
              "      <td>تجربة ممتازة وشيقة فعلا تعاملاتهم محترمة ماعدا...</td>\n",
              "      <td>1</td>\n",
              "    </tr>\n",
              "    <tr>\n",
              "      <th>2</th>\n",
              "      <td>31581</td>\n",
              "      <td>دفو على نصابين</td>\n",
              "      <td>-1</td>\n",
              "    </tr>\n",
              "    <tr>\n",
              "      <th>3</th>\n",
              "      <td>58926</td>\n",
              "      <td>J arriver à temps et malheureusement je me  re...</td>\n",
              "      <td>1</td>\n",
              "    </tr>\n",
              "    <tr>\n",
              "      <th>4</th>\n",
              "      <td>17945</td>\n",
              "      <td>Je suis contente des services rendu par Jumia....</td>\n",
              "      <td>1</td>\n",
              "    </tr>\n",
              "  </tbody>\n",
              "</table>\n",
              "</div>"
            ],
            "text/plain": [
              "      ID                                            content  score\n",
              "0  65479  Revoyez vos prix ainsi que la lenteur ke prend...      0\n",
              "1  84256  تجربة ممتازة وشيقة فعلا تعاملاتهم محترمة ماعدا...      1\n",
              "2  31581                                     دفو على نصابين     -1\n",
              "3  58926  J arriver à temps et malheureusement je me  re...      1\n",
              "4  17945  Je suis contente des services rendu par Jumia....      1"
            ]
          },
          "metadata": {
            "tags": []
          },
          "execution_count": 3
        }
      ]
    },
    {
      "cell_type": "code",
      "metadata": {
        "colab": {
          "base_uri": "https://localhost:8080/"
        },
        "id": "pF9tVlannCYl",
        "outputId": "d6fd9afc-436c-4538-b50b-0723070284f2"
      },
      "source": [
        "train.info()"
      ],
      "execution_count": 4,
      "outputs": [
        {
          "output_type": "stream",
          "text": [
            "<class 'pandas.core.frame.DataFrame'>\n",
            "RangeIndex: 59408 entries, 0 to 59407\n",
            "Data columns (total 3 columns):\n",
            " #   Column   Non-Null Count  Dtype \n",
            "---  ------   --------------  ----- \n",
            " 0   ID       59408 non-null  int64 \n",
            " 1   content  59408 non-null  object\n",
            " 2   score    59408 non-null  int64 \n",
            "dtypes: int64(2), object(1)\n",
            "memory usage: 1.4+ MB\n"
          ],
          "name": "stdout"
        }
      ]
    },
    {
      "cell_type": "code",
      "metadata": {
        "colab": {
          "base_uri": "https://localhost:8080/"
        },
        "id": "rQirYxM4peyK",
        "outputId": "1bf229de-ad74-4553-bc53-04681972780b"
      },
      "source": [
        "train.isnull().sum()"
      ],
      "execution_count": 5,
      "outputs": [
        {
          "output_type": "execute_result",
          "data": {
            "text/plain": [
              "ID         0\n",
              "content    0\n",
              "score      0\n",
              "dtype: int64"
            ]
          },
          "metadata": {
            "tags": []
          },
          "execution_count": 5
        }
      ]
    },
    {
      "cell_type": "markdown",
      "metadata": {
        "id": "pmZ1lMmsfu0A"
      },
      "source": [
        "# **Data Visualization**"
      ]
    },
    {
      "cell_type": "code",
      "metadata": {
        "colab": {
          "base_uri": "https://localhost:8080/",
          "height": 335
        },
        "id": "qSMOCLFbf1z1",
        "outputId": "0f9e69a7-e97d-4eea-8bcf-c5e16c9b758f"
      },
      "source": [
        "#let's check the class distribution.There are only two classes 0 and 1.\r\n",
        "\r\n",
        "x=train.score.value_counts()\r\n",
        "sns.barplot(x.index,x)\r\n",
        "plt.gca().set_ylabel('samples')"
      ],
      "execution_count": 6,
      "outputs": [
        {
          "output_type": "stream",
          "text": [
            "/usr/local/lib/python3.6/dist-packages/seaborn/_decorators.py:43: FutureWarning: Pass the following variables as keyword args: x, y. From version 0.12, the only valid positional argument will be `data`, and passing other arguments without an explicit keyword will result in an error or misinterpretation.\n",
            "  FutureWarning\n"
          ],
          "name": "stderr"
        },
        {
          "output_type": "execute_result",
          "data": {
            "text/plain": [
              "Text(0, 0.5, 'samples')"
            ]
          },
          "metadata": {
            "tags": []
          },
          "execution_count": 6
        },
        {
          "output_type": "display_data",
          "data": {
            "image/png": "[encoded data removed]",
            "text/plain": [
              "<Figure size 432x288 with 1 Axes>"
            ]
          },
          "metadata": {
            "tags": [],
            "needs_background": "light"
          }
        }
      ]
    },
    {
      "cell_type": "code",
      "metadata": {
        "colab": {
          "base_uri": "https://localhost:8080/",
          "height": 356
        },
        "id": "CP0tOjMZg8Do",
        "outputId": "7e7f2aef-e962-402b-af3d-09af74da27fb"
      },
      "source": [
        "#Number of characters in tweets\r\n",
        "fig,(ax1,ax2,ax3)=plt.subplots(1,3,figsize=(10,5))\r\n",
        "tweet_len=train[train['score']==1]['content'].str.len()\r\n",
        "ax1.hist(tweet_len,color='red')\r\n",
        "ax1.set_title('positive tweets')\r\n",
        "tweet_len=train[train['score']==0]['content'].str.len()\r\n",
        "ax2.hist(tweet_len,color='green')\r\n",
        "ax2.set_title('neutral tweets')\r\n",
        "tweet_len=train[train['score']==-1]['content'].str.len()\r\n",
        "ax3.hist(tweet_len,color='blue')\r\n",
        "ax3.set_title('negative tweets')\r\n",
        "\r\n",
        "fig.suptitle('Characters in tweets')\r\n",
        "plt.show()"
      ],
      "execution_count": 7,
      "outputs": [
        {
          "output_type": "display_data",
          "data": {
            "image/png": "[encoded data removed]",
            "text/plain": [
              "<Figure size 720x360 with 3 Axes>"
            ]
          },
          "metadata": {
            "tags": [],
            "needs_background": "light"
          }
        }
      ]
    },
    {
      "cell_type": "code",
      "metadata": {
        "colab": {
          "base_uri": "https://localhost:8080/",
          "height": 356
        },
        "id": "dEa7H2NFjFzS",
        "outputId": "fac0109f-c90a-4aac-995b-ebfee8aec6d4"
      },
      "source": [
        "#Number of words in a tweet\r\n",
        "fig,(ax1,ax2,ax3)=plt.subplots(1,3,figsize=(10,5))\r\n",
        "tweet_len=train[train['score']==1]['content'].str.split().map(lambda x: len(x))\r\n",
        "ax1.hist(tweet_len,color='red')\r\n",
        "ax1.set_title('positive tweets')\r\n",
        "tweet_len=train[train['score']==0]['content'].str.split().map(lambda x: len(x))\r\n",
        "ax2.hist(tweet_len,color='green')\r\n",
        "ax2.set_title('neutral tweets')\r\n",
        "tweet_len=train[train['score']==-1]['content'].str.split().map(lambda x: len(x))\r\n",
        "ax3.hist(tweet_len,color='blue')\r\n",
        "ax3.set_title('negative tweets')\r\n",
        "fig.suptitle('Words in a tweet')\r\n",
        "plt.show()"
      ],
      "execution_count": 8,
      "outputs": [
        {
          "output_type": "display_data",
          "data": {
            "image/png": "[encoded data removed]",
            "text/plain": [
              "<Figure size 720x360 with 3 Axes>"
            ]
          },
          "metadata": {
            "tags": [],
            "needs_background": "light"
          }
        }
      ]
    },
    {
      "cell_type": "code",
      "metadata": {
        "colab": {
          "base_uri": "https://localhost:8080/",
          "height": 575
        },
        "id": "vCVBTOqkj098",
        "outputId": "07614df5-7695-43ec-cfd9-919120e57e6a"
      },
      "source": [
        "#Average word length in a tweet\r\n",
        "fig,(ax1,ax2, ax3)=plt.subplots(1,3,figsize=(10,5))\r\n",
        "word=train[train['score']==1]['content'].str.split().apply(lambda x : [len(i) for i in x])\r\n",
        "sns.distplot(word.map(lambda x: np.mean(x)),ax=ax1,color='red')\r\n",
        "ax1.set_title('positive')\r\n",
        "word=train[train['score']==0]['content'].str.split().apply(lambda x : [len(i) for i in x])\r\n",
        "sns.distplot(word.map(lambda x: np.mean(x)),ax=ax2,color='green')\r\n",
        "ax2.set_title('neutral')\r\n",
        "word=train[train['score']==-1]['content'].str.split().apply(lambda x : [len(i) for i in x])\r\n",
        "sns.distplot(word.map(lambda x: np.mean(x)),ax=ax3,color='blue')\r\n",
        "ax3.set_title('negative')\r\n",
        "fig.suptitle('Average word length in each tweet')"
      ],
      "execution_count": 9,
      "outputs": [
        {
          "output_type": "stream",
          "text": [
            "/usr/local/lib/python3.6/dist-packages/numpy/core/fromnumeric.py:3373: RuntimeWarning: Mean of empty slice.\n",
            "  out=out, **kwargs)\n",
            "/usr/local/lib/python3.6/dist-packages/numpy/core/_methods.py:170: RuntimeWarning: invalid value encountered in double_scalars\n",
            "  ret = ret.dtype.type(ret / rcount)\n",
            "/usr/local/lib/python3.6/dist-packages/seaborn/distributions.py:2551: FutureWarning: `distplot` is a deprecated function and will be removed in a future version. Please adapt your code to use either `displot` (a figure-level function with similar flexibility) or `histplot` (an axes-level function for histograms).\n",
            "  warnings.warn(msg, FutureWarning)\n",
            "/usr/local/lib/python3.6/dist-packages/seaborn/distributions.py:2551: FutureWarning: `distplot` is a deprecated function and will be removed in a future version. Please adapt your code to use either `displot` (a figure-level function with similar flexibility) or `histplot` (an axes-level function for histograms).\n",
            "  warnings.warn(msg, FutureWarning)\n",
            "/usr/local/lib/python3.6/dist-packages/seaborn/distributions.py:2551: FutureWarning: `distplot` is a deprecated function and will be removed in a future version. Please adapt your code to use either `displot` (a figure-level function with similar flexibility) or `histplot` (an axes-level function for histograms).\n",
            "  warnings.warn(msg, FutureWarning)\n"
          ],
          "name": "stderr"
        },
        {
          "output_type": "execute_result",
          "data": {
            "text/plain": [
              "Text(0.5, 0.98, 'Average word length in each tweet')"
            ]
          },
          "metadata": {
            "tags": []
          },
          "execution_count": 9
        },
        {
          "output_type": "display_data",
          "data": {
            "image/png": "[encoded data removed]",
            "text/plain": [
              "<Figure size 720x360 with 3 Axes>"
            ]
          },
          "metadata": {
            "tags": [],
            "needs_background": "light"
          }
        }
      ]
    },
    {
      "cell_type": "code",
      "metadata": {
        "id": "mQJrGAMWmGaV"
      },
      "source": [
        "#Common stopwords in tweets - \r\n",
        "def create_corpus(target):\r\n",
        "    corpus=[]\r\n",
        "    \r\n",
        "    for x in train[train['score']==target]['content'].str.split():\r\n",
        "        for i in x:\r\n",
        "            corpus.append(i)\r\n",
        "    return corpus"
      ],
      "execution_count": 10,
      "outputs": []
    },
    {
      "cell_type": "code",
      "metadata": {
        "colab": {
          "base_uri": "https://localhost:8080/",
          "height": 269
        },
        "id": "qvq5hwEAmXm4",
        "outputId": "e024fe7c-d1ca-46bd-a380-dc728109570c"
      },
      "source": [
        "#analyze tweets with class 0.\r\n",
        "\r\n",
        "stop=set(sw)\r\n",
        "corpus=create_corpus(0)\r\n",
        "\r\n",
        "dic=defaultdict(int)\r\n",
        "for word in corpus:\r\n",
        "    if word in stop:\r\n",
        "        dic[word]+=1\r\n",
        "        \r\n",
        "top=sorted(dic.items(), key=lambda x:x[1],reverse=True)[:50] \r\n",
        "\r\n",
        "x,y=zip(*top)\r\n",
        "plt.figure(figsize=(25,5))\r\n",
        "plt.bar(x,y)"
      ],
      "execution_count": 11,
      "outputs": [
        {
          "output_type": "execute_result",
          "data": {
            "text/plain": [
              "<BarContainer object of 50 artists>"
            ]
          },
          "metadata": {
            "tags": []
          },
          "execution_count": 11
        },
        {
          "output_type": "display_data",
          "data": {
            "image/png": "[encoded data removed]",
            "text/plain": [
              "<Figure size 1800x360 with 1 Axes>"
            ]
          },
          "metadata": {
            "tags": [],
            "needs_background": "light"
          }
        }
      ]
    },
    {
      "cell_type": "code",
      "metadata": {
        "id": "L1bldG3Cn1cx"
      },
      "source": [
        ""
      ],
      "execution_count": 11,
      "outputs": []
    },
    {
      "cell_type": "code",
      "metadata": {
        "colab": {
          "base_uri": "https://localhost:8080/",
          "height": 269
        },
        "id": "g2bq0LvAnBjv",
        "outputId": "e0652363-6da8-483e-a37d-16dcf1ff8db3"
      },
      "source": [
        "#analyze tweets with class 1.\r\n",
        "corpus=create_corpus(1)\r\n",
        "\r\n",
        "dic=defaultdict(int)\r\n",
        "for word in corpus:\r\n",
        "    if word in stop:\r\n",
        "        dic[word]+=1\r\n",
        "        \r\n",
        "top=sorted(dic.items(), key=lambda x:x[1],reverse=True)[:50] \r\n",
        "\r\n",
        "x,y=zip(*top)\r\n",
        "plt.figure(figsize=(25,5))\r\n",
        "plt.bar(x,y)"
      ],
      "execution_count": 12,
      "outputs": [
        {
          "output_type": "execute_result",
          "data": {
            "text/plain": [
              "<BarContainer object of 50 artists>"
            ]
          },
          "metadata": {
            "tags": []
          },
          "execution_count": 12
        },
        {
          "output_type": "display_data",
          "data": {
            "image/png": "[encoded data removed]",
            "text/plain": [
              "<Figure size 1800x360 with 1 Axes>"
            ]
          },
          "metadata": {
            "tags": [],
            "needs_background": "light"
          }
        }
      ]
    },
    {
      "cell_type": "code",
      "metadata": {
        "colab": {
          "base_uri": "https://localhost:8080/",
          "height": 269
        },
        "id": "APxinD1DnPQA",
        "outputId": "6226891e-27a9-4c4a-979c-1451d283d125"
      },
      "source": [
        "#analyze tweets with class -1.\r\n",
        "corpus=create_corpus(-1)\r\n",
        "\r\n",
        "dic=defaultdict(int)\r\n",
        "for word in corpus:\r\n",
        "    if word in stop:\r\n",
        "        dic[word]+=1\r\n",
        "        \r\n",
        "top=sorted(dic.items(), key=lambda x:x[1],reverse=True)[:50] \r\n",
        "\r\n",
        "x,y=zip(*top)\r\n",
        "plt.figure(figsize=(25,5))\r\n",
        "plt.bar(x,y)"
      ],
      "execution_count": 13,
      "outputs": [
        {
          "output_type": "execute_result",
          "data": {
            "text/plain": [
              "<BarContainer object of 50 artists>"
            ]
          },
          "metadata": {
            "tags": []
          },
          "execution_count": 13
        },
        {
          "output_type": "display_data",
          "data": {
            "image/png": "[encoded data removed]",
            "text/plain": [
              "<Figure size 1800x360 with 1 Axes>"
            ]
          },
          "metadata": {
            "tags": [],
            "needs_background": "light"
          }
        }
      ]
    },
    {
      "cell_type": "code",
      "metadata": {
        "colab": {
          "base_uri": "https://localhost:8080/",
          "height": 337
        },
        "id": "TOMF2jyXorYa",
        "outputId": "8cb7f605-a4c7-4ce7-c2e0-3bef383a441e"
      },
      "source": [
        "#Analyzing punctuations - Lets check class 0\r\n",
        "plt.figure(figsize=(10,5))\r\n",
        "corpus=create_corpus(0)\r\n",
        "\r\n",
        "dic=defaultdict(int)\r\n",
        "import string\r\n",
        "special = string.punctuation\r\n",
        "for i in (corpus):\r\n",
        "    if i in special:\r\n",
        "        dic[i]+=1\r\n",
        "        \r\n",
        "x,y=zip(*dic.items())\r\n",
        "plt.bar(x,y)"
      ],
      "execution_count": 14,
      "outputs": [
        {
          "output_type": "execute_result",
          "data": {
            "text/plain": [
              "<BarContainer object of 7 artists>"
            ]
          },
          "metadata": {
            "tags": []
          },
          "execution_count": 14
        },
        {
          "output_type": "display_data",
          "data": {
            "image/png": "[encoded data removed]",
            "text/plain": [
              "<Figure size 720x360 with 1 Axes>"
            ]
          },
          "metadata": {
            "tags": [],
            "needs_background": "light"
          }
        }
      ]
    },
    {
      "cell_type": "code",
      "metadata": {
        "colab": {
          "base_uri": "https://localhost:8080/",
          "height": 337
        },
        "id": "_xtw7tEWozoD",
        "outputId": "4859cec9-261e-433f-9a13-1957af48741c"
      },
      "source": [
        "#Analyzing punctuations - Lets check class 1\r\n",
        "plt.figure(figsize=(10,5))\r\n",
        "corpus=create_corpus(1)\r\n",
        "\r\n",
        "dic=defaultdict(int)\r\n",
        "import string\r\n",
        "special = string.punctuation\r\n",
        "for i in (corpus):\r\n",
        "    if i in special:\r\n",
        "        dic[i]+=1\r\n",
        "        \r\n",
        "x,y=zip(*dic.items())\r\n",
        "plt.bar(x,y)"
      ],
      "execution_count": 15,
      "outputs": [
        {
          "output_type": "execute_result",
          "data": {
            "text/plain": [
              "<BarContainer object of 9 artists>"
            ]
          },
          "metadata": {
            "tags": []
          },
          "execution_count": 15
        },
        {
          "output_type": "display_data",
          "data": {
            "image/png": "[encoded data removed]",
            "text/plain": [
              "<Figure size 720x360 with 1 Axes>"
            ]
          },
          "metadata": {
            "tags": [],
            "needs_background": "light"
          }
        }
      ]
    },
    {
      "cell_type": "code",
      "metadata": {
        "colab": {
          "base_uri": "https://localhost:8080/",
          "height": 337
        },
        "id": "v7kkbUo8o21e",
        "outputId": "c68205ff-f585-4ac4-ca65-98d13f72134c"
      },
      "source": [
        "#Analyzing punctuations - Lets check class -1\r\n",
        "plt.figure(figsize=(10,5))\r\n",
        "corpus=create_corpus(-1)\r\n",
        "\r\n",
        "dic=defaultdict(int)\r\n",
        "import string\r\n",
        "special = string.punctuation\r\n",
        "for i in (corpus):\r\n",
        "    if i in special:\r\n",
        "        dic[i]+=1\r\n",
        "        \r\n",
        "x,y=zip(*dic.items())\r\n",
        "plt.bar(x,y)"
      ],
      "execution_count": 16,
      "outputs": [
        {
          "output_type": "execute_result",
          "data": {
            "text/plain": [
              "<BarContainer object of 8 artists>"
            ]
          },
          "metadata": {
            "tags": []
          },
          "execution_count": 16
        },
        {
          "output_type": "display_data",
          "data": {
            "image/png": "[encoded data removed]",
            "text/plain": [
              "<Figure size 720x360 with 1 Axes>"
            ]
          },
          "metadata": {
            "tags": [],
            "needs_background": "light"
          }
        }
      ]
    },
    {
      "cell_type": "code",
      "metadata": {
        "colab": {
          "base_uri": "https://localhost:8080/",
          "height": 282
        },
        "id": "l0baReZ-pHNy",
        "outputId": "71bb9b4f-568a-4318-c026-3a54008df267"
      },
      "source": [
        "# Identify common words\r\n",
        "from collections import  Counter\r\n",
        "counter=Counter(corpus)\r\n",
        "most=counter.most_common()\r\n",
        "x=[]\r\n",
        "y=[]\r\n",
        "for word,count in most[:50]:\r\n",
        "    if (word not in stop) :\r\n",
        "        x.append(word)\r\n",
        "        y.append(count)\r\n",
        "\r\n",
        "sns.barplot(x=y,y=x)"
      ],
      "execution_count": 17,
      "outputs": [
        {
          "output_type": "execute_result",
          "data": {
            "text/plain": [
              "<matplotlib.axes._subplots.AxesSubplot at 0x7fcc146197b8>"
            ]
          },
          "metadata": {
            "tags": []
          },
          "execution_count": 17
        },
        {
          "output_type": "display_data",
          "data": {
            "image/png": "[encoded data removed]",
            "text/plain": [
              "<Figure size 432x288 with 1 Axes>"
            ]
          },
          "metadata": {
            "tags": [],
            "needs_background": "light"
          }
        }
      ]
    },
    {
      "cell_type": "code",
      "metadata": {
        "id": "_UBfYAiBprio"
      },
      "source": [
        "#Ngram analysis\r\n",
        "from sklearn.feature_extraction.text import CountVectorizer\r\n",
        "\r\n",
        "#we will do a bigram (n=2) analysis over the tweets.\r\n",
        "#Let's check the most common bigrams in tweets.\r\n",
        "def get_top_tweet_bigrams(corpus, n=None):\r\n",
        "    vec = CountVectorizer(ngram_range=(2, 2)).fit(corpus)\r\n",
        "    bag_of_words = vec.transform(corpus)\r\n",
        "    sum_words = bag_of_words.sum(axis=0) \r\n",
        "    words_freq = [(word, sum_words[0, idx]) for word, idx in vec.vocabulary_.items()]\r\n",
        "    words_freq =sorted(words_freq, key = lambda x: x[1], reverse=True)\r\n",
        "    return words_freq[:n]"
      ],
      "execution_count": 18,
      "outputs": []
    },
    {
      "cell_type": "code",
      "metadata": {
        "colab": {
          "base_uri": "https://localhost:8080/",
          "height": 880
        },
        "id": "nnjhQfVmpwBb",
        "outputId": "604ba2cf-c683-464e-f4d9-534cc38d0aa5"
      },
      "source": [
        "plt.figure(figsize=(10,15))\r\n",
        "top_tweet_bigrams=get_top_tweet_bigrams(train['content'])[:50]\r\n",
        "x,y=map(list,zip(*top_tweet_bigrams))\r\n",
        "sns.barplot(x=y,y=x)"
      ],
      "execution_count": 19,
      "outputs": [
        {
          "output_type": "execute_result",
          "data": {
            "text/plain": [
              "<matplotlib.axes._subplots.AxesSubplot at 0x7fcc109f0ac8>"
            ]
          },
          "metadata": {
            "tags": []
          },
          "execution_count": 19
        },
        {
          "output_type": "display_data",
          "data": {
            "image/png": "[encoded data removed]",
            "text/plain": [
              "<Figure size 720x1080 with 1 Axes>"
            ]
          },
          "metadata": {
            "tags": [],
            "needs_background": "light"
          }
        }
      ]
    },
    {
      "cell_type": "markdown",
      "metadata": {
        "id": "X3o5L-zqpkWi"
      },
      "source": [
        "# **Data Preprocessing**"
      ]
    },
    {
      "cell_type": "markdown",
      "metadata": {
        "id": "_Xv4SeZ_jEmu"
      },
      "source": [
        ""
      ]
    },
    {
      "cell_type": "code",
      "metadata": {
        "id": "GJ12Rs19p1aB"
      },
      "source": [
        "def clean_data (tweet):\r\n",
        " # stemmer = PorterStemmer()\r\n",
        "  lemmatizer = WordNetLemmatizer()\r\n",
        "  sw= stopwords.words('english') +  stopwords.words('arabic') +  stopwords.words('french')\r\n",
        " #removelink\r\n",
        "  tweet= re.sub(r'^RT[\\s]+', '', tweet)\r\n",
        "  tweet= re.sub(r'https?:\\/\\/.*[\\r\\n]*', '', tweet)\r\n",
        "  tweet= re.sub(r'#', '', tweet)\r\n",
        "  tweet= re.sub(r'@[A-Za-z0–9]+', '', tweet)\r\n",
        "  tweet= re.sub(r'<.*?>', '', tweet)\r\n",
        "\r\n",
        "  tokenizer = TweetTokenizer(preserve_case=False,  strip_handles=True, reduce_len=True)\r\n",
        "  tweet_tokens = tokenizer.tokenize(tweet)\r\n",
        " \r\n",
        "  tweets_clean = []\r\n",
        "  for word in tweet_tokens:\r\n",
        "      if (word not in sw): \r\n",
        "          lem_word=lemmatizer.lemmatize(word, pos=\"v\")\r\n",
        "         # stem_word = stemmer.stem(lem_word)  # stemming word\r\n",
        "          tweets_clean.append(lem_word)\r\n",
        "\r\n",
        "  return tweets_clean"
      ],
      "execution_count": 20,
      "outputs": []
    },
    {
      "cell_type": "code",
      "metadata": {
        "id": "0p9Yn2BW8mGn"
      },
      "source": [
        "train['content_clean'] = train.apply(lambda row : clean_data(row['content']), axis = 1) "
      ],
      "execution_count": 21,
      "outputs": []
    },
    {
      "cell_type": "code",
      "metadata": {
        "colab": {
          "base_uri": "https://localhost:8080/"
        },
        "id": "skf8k7400JyS",
        "outputId": "1f122142-ceb3-411e-9a33-41c950a96fb1"
      },
      "source": [
        "pip install python-bidi"
      ],
      "execution_count": 22,
      "outputs": [
        {
          "output_type": "stream",
          "text": [
            "Requirement already satisfied: python-bidi in /usr/local/lib/python3.6/dist-packages (0.4.2)\n",
            "Requirement already satisfied: six in /usr/local/lib/python3.6/dist-packages (from python-bidi) (1.15.0)\n"
          ],
          "name": "stdout"
        }
      ]
    },
    {
      "cell_type": "code",
      "metadata": {
        "colab": {
          "base_uri": "https://localhost:8080/"
        },
        "id": "2OvZrDKK0oDy",
        "outputId": "af4b5364-83bf-43bf-95ab-3200918434cb"
      },
      "source": [
        "pip install arabic_reshaper"
      ],
      "execution_count": 23,
      "outputs": [
        {
          "output_type": "stream",
          "text": [
            "Requirement already satisfied: arabic_reshaper in /usr/local/lib/python3.6/dist-packages (2.1.1)\n",
            "Requirement already satisfied: future in /usr/local/lib/python3.6/dist-packages (from arabic_reshaper) (0.16.0)\n",
            "Requirement already satisfied: setuptools in /usr/local/lib/python3.6/dist-packages (from arabic_reshaper) (51.0.0)\n"
          ],
          "name": "stdout"
        }
      ]
    },
    {
      "cell_type": "code",
      "metadata": {
        "id": "8Oke425GtRAW"
      },
      "source": [
        "#see the word cloud with treated text\r\n",
        "# -ve wordcloud\r\n",
        "from wordcloud import WordCloud,STOPWORDS\r\n",
        "from bidi.algorithm import get_display\r\n",
        "import json\r\n",
        "\r\n",
        "\r\n",
        "import arabic_reshaper\r\n",
        "\r\n",
        "df_neg = train[train['score']==-1]['content_clean']\r\n",
        "df_neg=df_neg.values.tolist()\r\n",
        "\r\n",
        "\r\n",
        "s=''\r\n",
        "for i in df_neg:\r\n",
        "    s=s.join(i)\r\n",
        "df_neg = arabic_reshaper.reshape(s)\r\n",
        "\r\n",
        "df_neg = get_display(df_neg) \r\n",
        "wordcloud1 = WordCloud(stopwords=STOPWORDS,\r\n",
        "                      background_color='white',\r\n",
        "                      width=2500,\r\n",
        "                      height=2000\r\n",
        "                      ).generate(','.join((map(str, df_neg))))\r\n",
        "\r\n",
        "plt.figure(1,figsize=(15, 15))\r\n",
        "plt.imshow(wordcloud1)\r\n",
        "plt.axis('off')\r\n",
        "plt.show()"
      ],
      "execution_count": null,
      "outputs": []
    },
    {
      "cell_type": "code",
      "metadata": {
        "id": "Ohcz9wfgwtT7"
      },
      "source": [
        "from wordcloud import WordCloud,STOPWORDS\r\n",
        "df_pos = train[train['score']==1]['content_clean']\r\n",
        "\r\n",
        "wordcloud1 = WordCloud(stopwords=STOPWORDS,\r\n",
        "                      background_color='white',\r\n",
        "                      width=2500,\r\n",
        "                      height=2000\r\n",
        "                      ).generate(','.join((map(str, df_pos))))\r\n",
        "\r\n",
        "plt.figure(1,figsize=(15, 15))\r\n",
        "plt.imshow(wordcloud1)\r\n",
        "plt.axis('off')\r\n",
        "plt.show()"
      ],
      "execution_count": null,
      "outputs": []
    },
    {
      "cell_type": "code",
      "metadata": {
        "id": "4fJ2Qt0aw7cJ"
      },
      "source": [
        "from wordcloud import WordCloud,STOPWORDS\r\n",
        "df_neut = train[train['score']==0]['content_clean']\r\n",
        "\r\n",
        "wordcloud1 = WordCloud(stopwords=STOPWORDS,\r\n",
        "                      background_color='white',\r\n",
        "                      width=2500,\r\n",
        "                      height=2000\r\n",
        "                      ).generate(','.join((map(str, df_neut))))\r\n",
        "\r\n",
        "plt.figure(1,figsize=(15, 15))\r\n",
        "plt.imshow(wordcloud1)\r\n",
        "plt.axis('off')\r\n",
        "plt.show()"
      ],
      "execution_count": null,
      "outputs": []
    },
    {
      "cell_type": "code",
      "metadata": {
        "id": "l-BnY-yaxeYm"
      },
      "source": [
        ""
      ],
      "execution_count": null,
      "outputs": []
    },
    {
      "cell_type": "markdown",
      "metadata": {
        "id": "uB2mwifWtb0X"
      },
      "source": [
        "# **Model**"
      ]
    },
    {
      "cell_type": "markdown",
      "metadata": {
        "id": "7QMojjjwthvq"
      },
      "source": [
        "## **convolutional neural network**"
      ]
    },
    {
      "cell_type": "markdown",
      "metadata": {
        "id": "qAnI0b57tvpk"
      },
      "source": [
        "### **Build Dictionnary**"
      ]
    },
    {
      "cell_type": "code",
      "metadata": {
        "id": "lf0zRmhYAMbb"
      },
      "source": [
        "# CNN eya\r\n",
        "from numpy import array\r\n",
        "from keras.preprocessing.text import one_hot\r\n",
        "from keras.preprocessing.sequence import pad_sequences\r\n",
        "from keras.models import Sequential\r\n",
        "from keras.layers import Dense, GlobalMaxPool1D\r\n",
        "from keras.layers import Flatten\r\n",
        "from keras.layers.embeddings import Embedding\r\n",
        "from keras.layers.convolutional import Conv1D    \r\n",
        "\r\n",
        "# define y and x\r\n",
        "x=list(train['content'])\r\n",
        "y=list(train['score'])\r\n",
        "\r\n",
        "y=np.array(y)\r\n",
        "\r\n",
        "# integer encode the documents\r\n",
        "vocab_size = 13000\r\n",
        "encoded_x = [one_hot(d, vocab_size) for d in x]\r\n",
        "print(encoded_x[0:100])\r\n",
        "\r\n",
        "# pad documents to a max length of 100 words\r\n",
        "max_length = 100\r\n",
        "padded_x = pad_sequences(encoded_x, maxlen=max_length, padding='post')\r\n",
        "print(padded_x)\r\n",
        "\r\n",
        "# define the model\r\n",
        "embedding_dim = 100\r\n",
        "\r\n",
        "model = Sequential()\r\n",
        "model.add(Embedding(vocab_size, embedding_dim, input_length=max_length))\r\n",
        "model.add(Conv1D(128, 5, activation='relu'))\r\n",
        "model.add(GlobalMaxPool1D())\r\n",
        "model.add(Dense(10, activation='relu'))\r\n",
        "model.add(Dense(1, activation='sigmoid'))\r\n",
        "model.compile(optimizer='adam',\r\n",
        "              loss='binary_crossentropy',\r\n",
        "              metrics=['accuracy'])\r\n",
        "\r\n",
        "\r\n",
        "# summarize the model\r\n",
        "#print(model.summary())\r\n",
        "# fit the model\r\n",
        "print(model.fit(padded_x, y, epochs=10, verbose=0))\r\n",
        "\r\n",
        "loss, accuracy = model.evaluate(padded_x,y,verbose=0)\r\n",
        "print('Accuracy: %f' % (accuracy*100))"
      ],
      "execution_count": null,
      "outputs": []
    }
  ]
}